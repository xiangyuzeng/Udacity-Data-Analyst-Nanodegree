{
 "cells": [
  {
   "cell_type": "markdown",
   "metadata": {},
   "source": [
    "\n",
    "### Nested Selections"
   ]
  },
  {
   "cell_type": "raw",
   "metadata": {},
   "source": [
    "# in JS console\n",
    "\n",
    "# Looking for both navbar-brand and logo classes defined on the a tag.\n",
    "> d3.select('a.navbar-brand.logo');\n",
    "\n",
    "# Select by id\n",
    "> d3.select('a#header-logo');\n",
    "> var parent_el = d3.select('a#header-logo');\n",
    "\n",
    "# Go a single level down\n",
    "> parent_el.select('img');\n",
    "\n",
    "# Change attribute of an element (logo alt text and then img src)\n",
    "> parent_el.select('img').attr('alt', \"Jon's logo\");\n",
    "> parent_el.select('img').attr('src', zipf); # zipf is a variable that stores the corresponding URL"
   ]
  },
  {
   "cell_type": "markdown",
   "metadata": {},
   "source": [
    "### Mike Bostock on Nested Selections\n",
    "https://bost.ocks.org/mike/nest/"
   ]
  },
  {
   "cell_type": "raw",
   "metadata": {},
   "source": [
    "# Mike Bostock on Nested Selections \n",
    "\n",
    "# The two lines below give identical results in this case\n",
    "# Descendant combinator \"tbody td\"\n",
    "# First line returns flat selection (see diagram 1)\n",
    "> var td = d3.selectAll('tbody td');\n",
    "> var td = d3.select('tbody').selectAll('td');\n",
    "\n",
    "# Nesting and Index\n",
    "# Grouping tds by row:\n",
    "> var td = d3.selectAll('tbody tr').selectAll('td');\n",
    "\n",
    "# Color the first column red:\n",
    "> td.style('color', function(d, i) {return i ? null : 'red'; }); # I assume that, as below, d is matrix[i]"
   ]
  },
  {
   "cell_type": "markdown",
   "metadata": {},
   "source": [
    "^ What just happened?"
   ]
  },
  {
   "cell_type": "raw",
   "metadata": {},
   "source": [
    "# Nesting and Data\n",
    "> var matrix = [\n",
    "    [0, 1, 2, 3],\n",
    "    [4, 5, 6, 7],\n",
    "    [8, 9, 10, 11],\n",
    "    [12, 13, 14, 15],\n",
    "  ];\n",
    "\n",
    "\n",
    "# To join the numbers to the corresponding table cells, first join the outer array (matrix) to the rows and then join the inner arrays (matrix[0], matrix[1], ...) to the cells:\n",
    "\n",
    "> var td = d3.selectAll('tbody tr')\n",
    "    .data(matrix)\n",
    "    .selectAll('td')\n",
    "    .data(function(d, i) { return d; }); // d is matrix[i]\n",
    "   \n",
    "   \n",
    "..."
   ]
  },
  {
   "cell_type": "raw",
   "metadata": {},
   "source": [
    "# Quiz answer\n",
    "> d3.select('a.navbar-brand.logo').select('img').attr('src', zipf);"
   ]
  },
  {
   "cell_type": "markdown",
   "metadata": {},
   "source": [
    "### Removing elements with D3"
   ]
  },
  {
   "cell_type": "raw",
   "metadata": {},
   "source": [
    "# Remove \n",
    "> d3.select('div.col-xs-3').remove()\n",
    "# Returns html in this element\n",
    "> d3.select('div.col-xs-3').html()\n",
    "# Replaces html in this element. This empties out selection.\n",
    "> d3.select('div.col-xs-3').html('')"
   ]
  },
  {
   "cell_type": "markdown",
   "metadata": {},
   "source": [
    "## D3 Scales\n",
    "\n",
    "Also: http://animateddata.co.uk/articles/d3/scales/\n",
    "\n",
    "Need to map data values to e.g. pixel values.\n",
    "Input values are the .domain(), output (e.g. pixel values) are the .range(). Need to specify function. Here use linear transform $$y = mx + b$$. \n",
    "All we need to specify are the min and max of our domain and range - we don't have to calculate m and b. D3 scale calculations the appropriate values of our constants m and b.\n",
    "\n",
    "**SVG**\n",
    "SVG on webpage has (0,0) at top left of webpage with y increasing downwards. Pixels are offset from SVG root."
   ]
  },
  {
   "cell_type": "raw",
   "metadata": {},
   "source": [
    "# Insert SVG element <svg></svg>\n",
    "# Note that SVG elements do not have any visual representation by default.\n",
    "var svg = d3.select('div.col-xs-3').append('svg')\n",
    "# D3 scale returns a function.\n",
    "> var y = d3.scale.linear().domain([15,90]).range([150,0])\n",
    "> var x = d3.scale.log().domain([250,100000]).range([0,200])\n",
    "\n",
    "# print example to check they scale seems to work\n",
    "> console.log((y(75), x(8347))\n",
    "30 145.4\n",
    "\n",
    "# Draw circle\n",
    "> svg.append('circle').attr('r', 10).attr('fill', 'red').attr('cx',x(8347)),attr('cy',y(75));\n",
    "# where cx is centre x, cy is centre y. svg is var defined above."
   ]
  },
  {
   "cell_type": "markdown",
   "metadata": {},
   "source": [
    "## D3 Recap\n",
    "\n",
    "* Declarative API -> Decouples specification from execution (you tell D3 what you want, not how you want to do it).\n",
    "* Backend (graphics engine D3 renders to) could be swapped out. Renders to HTML and SVG but could render to WebGL and HTML5 Canvas.\n",
    "* Also consequentially don't need to tell browser to draw points at (50,100) and (100,175) and draw lines between them for each datum.\n",
    "\n",
    "### Diversion: Client-Server Model\n",
    "D3 can easily load and manipulate data from external sources. e.g. d3.json(...)\n",
    "e.g. requesting a book from a friend (phones and Internet do not exist).\n",
    "\n",
    "1. Client sentds Request:\n",
    "    * Hostname: Address, Port: Room. e.g. d3js.org:80\n",
    "    * Client IP and port number: Return address.\n",
    "2. Server sends Response, e.g. an HTML file.\n",
    "3. Client makes AJAX request. (Any time D3 loads an external file e.g. d3.json or d3.csv) \n",
    "    * Server sends back data in another response which d3 loads into callback function to bind to HTML or SVG and draw a chart or visualisation based on the data send back from the server."
   ]
  },
  {
   "cell_type": "markdown",
   "metadata": {},
   "source": [
    "### Method Chaining\n",
    "There is a gotcha with method chaining, however: while most operations return the same selection, some methods return a new one! For example, selection.append returns a new selection containing the new elements. This conveniently allows you to chain operations into the new elements.\n",
    "\n",
    "The recommended indentation pattern for method chaining is four spaces for methods that preserve the current selection and two spaces for methods that change the selection."
   ]
  },
  {
   "cell_type": "raw",
   "metadata": {},
   "source": [
    "d3.selectAll(\"section\")\n",
    "    .attr(\"class\", \"special\")\n",
    "  .append(\"div\")\n",
    "    .html(\"Hello, world!\");"
   ]
  },
  {
   "cell_type": "markdown",
   "metadata": {},
   "source": [
    "Since method chaining can only be used to descend into the document hierarchy, use var to keep references to selections and go back up.\n"
   ]
  },
  {
   "cell_type": "raw",
   "metadata": {},
   "source": [
    "var section = d3.selectAll(\"section\");\n",
    "\n",
    "section.append(\"div\")\n",
    "    .html(\"First!\");\n",
    "\n",
    "section.append(\"div\")\n",
    "    .html(\"Second.\");"
   ]
  },
  {
   "cell_type": "markdown",
   "metadata": {},
   "source": [
    "### SVG notes\n",
    "\n",
    "A common point of confusion in SVG is distinguishing between properties that must be specified as attributes and properties that can be set as styles. The full list of styling properties is documented in the specification, but a quick rule of thumb is that geometry (such as the width of a rect element) must be specified as attributes, while aesthetics (such as a fill color) can be specified as styles. "
   ]
  }
 ],
 "metadata": {
  "kernelspec": {
   "display_name": "Python 3",
   "language": "python",
   "name": "python3"
  },
  "language_info": {
   "codemirror_mode": {
    "name": "ipython",
    "version": 3
   },
   "file_extension": ".py",
   "mimetype": "text/x-python",
   "name": "python",
   "nbconvert_exporter": "python",
   "pygments_lexer": "ipython3",
   "version": "3.5.1"
  }
 },
 "nbformat": 4,
 "nbformat_minor": 0
}

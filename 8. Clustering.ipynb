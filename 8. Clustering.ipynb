{
 "cells": [
  {
   "cell_type": "markdown",
   "metadata": {},
   "source": [
    "# 8. Clustering\n",
    "\n",
    "\n",
    "[Clustering into classes](images/8-01.png)\n",
    "\n",
    "No one wrote down that Class A and B exist, but you can deduce from the data that they might.\n",
    "\n",
    "## K-Means\n",
    "The most common clustering algorithm.\n",
    "\n",
    "1. Assign: Randomly draw cluster centres.\n",
    "- Figure out which points are closer to (correspond to) center 1 than center 2 and vice versa. Do this by drawing a line between the two cluster centers and then draw a orthogonal line equidistant to the two cluster centers that separates the plane into two spaces.\n",
    "[Assigning](images/8-02.png)\n",
    "\n",
    "2. Optimise: \n",
    "- Change cluster center position to minimise the total kinetic distance // state of minimum energy for rubber bands.\n",
    "\n",
    "E.g. \n",
    "[Assigned 1](images/8-03.png)\n",
    "[Optimise 1](images/8-04.png)\n",
    "\n",
    "[Optimise 2](images/8-05.png)\n",
    "Argue moved into optimised centroid.\n",
    "\n",
    "[K-means Clustering Visualisation by Naftali Harris](naftaliharris.com/blog/visualizing-k-means-clustering)\n",
    "\n",
    "Gaussian Mixture vs Uniform Data\n",
    "-> Latter just splits across approx. initial axes\n",
    "-> **Initial conditions matter for clustering.**\n",
    "\n",
    "### K-means parameters: \n",
    "1. `n_clusters` number of clusters\n",
    "    - Most important. Can be challenging\n",
    "    - Default is 8\n",
    "2. `max_iter` \n",
    "    - Max number of iteration of the k-means algorithm for a single run.\n",
    "    - Default is 300. Quite reasonable, often terminates before reaching 300 iterations.\n",
    "3. `n_init`\n",
    "    - Number of different initialisations you use. -> Repeat alg so ensemble of clusterings gives you soething that makes sense even if some clusterings are wrong because of bad or challenging initialisations.\n",
    "    - Default: 10\n",
    "\n",
    "### Pros and Cons\n",
    "\n",
    "Limitations\n",
    "- Output for any fixed training set (with a fixed number of cluster centers) won't always be the same\n",
    "    - Because uses hill-climbing algorithm -> is highly dependent on initial conditions.\n",
    "    - e.g. [Counterintuitive Clusters](images/8-06.png)\n",
    "    - [Counterintuitive Clusters 2](images/8-07.png)\n",
    "\n",
    "\n",
    "    "
   ]
  }
 ],
 "metadata": {
  "anaconda-cloud": {},
  "kernelspec": {
   "display_name": "Python [Root]",
   "language": "python",
   "name": "Python [Root]"
  },
  "language_info": {
   "codemirror_mode": {
    "name": "ipython",
    "version": 3
   },
   "file_extension": ".py",
   "mimetype": "text/x-python",
   "name": "python",
   "nbconvert_exporter": "python",
   "pygments_lexer": "ipython3",
   "version": "3.5.1"
  }
 },
 "nbformat": 4,
 "nbformat_minor": 0
}

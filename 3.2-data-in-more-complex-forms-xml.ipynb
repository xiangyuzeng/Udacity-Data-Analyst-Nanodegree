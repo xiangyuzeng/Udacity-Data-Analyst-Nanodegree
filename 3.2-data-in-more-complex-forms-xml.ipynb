{
 "cells": [
  {
   "cell_type": "markdown",
   "metadata": {},
   "source": [
    "# Data in More Complex Forms"
   ]
  },
  {
   "cell_type": "markdown",
   "metadata": {},
   "source": [
    "## 1. XML\n",
    "\n",
    "E.g. Citation Analysis: Access bibliography for each article.\n",
    "Q: How easy is it to pull out that type of data and use it programatically when data is encoded as XML?\n",
    "\n",
    "<img>\n",
    "\n",
    "Question: XML vs JSON?\n",
    "\n",
    "1. Platform-independent data transfer (Producer and consumer apps implemented in any way).\n",
    "2. Easy to write code to read/write.\n",
    "3. Document validation: Write a specification for a particular type of doc in XML and any specific examples of that doc produced can be validated against that spec.\n",
    "4. Human readable: Good idea of what file contains just by looking at it.\n",
    "5. Supports a wide variety of apps.\n",
    "\n",
    "### XML Standard (Benefits)\n",
    "1. -> Robust parsers in most languages\n",
    "2. -> We can focus on our app.\n",
    "3. It's free and isn't owned by a company.\n",
    "\n",
    "* Can build databases to support different types of queries or piece together data from different sources.\n",
    "* Can reliably be converted into other formats.\n",
    "* Lets you separate form or appearance from content: XML -> Structure of content, vs Stylesheet -> Formatting\n",
    "\n",
    "XML designed to work with tree structures as in documents. (Tree structures vs key-value pairs.)"
   ]
  },
  {
   "cell_type": "markdown",
   "metadata": {},
   "source": [
    "### XML Syntax\n",
    "\n",
    "Elements building blocks of XML doc.\n",
    "\n",
    "**XML element**\n",
    "* Composed of open tag and close tag.\n",
    "* Attributes\n",
    "* Two types of data: More document-oriented v s\n",
    "\n",
    "e.g. NYTimes Most Popular API (document-oriented) vs OpenStreetMap\n",
    "\n",
    "OpenStreetMap: Human-created data superimposed on a map. NOT document-oriented, just data. Attributes heavily used.\n",
    "* Mapping from geographic coordinates to street coordinates."
   ]
  },
  {
   "cell_type": "raw",
   "metadata": {},
   "source": [
    "<tag k=\"addr:street\" v=\"Belmont Avenue\" />"
   ]
  },
  {
   "cell_type": "markdown",
   "metadata": {},
   "source": [
    "### Parsing XML\n",
    "\n",
    "Parsing XML into a document tree (vs SAX parsing)\n",
    "- Read entire XML tree into memory."
   ]
  },
  {
   "cell_type": "code",
   "execution_count": null,
   "metadata": {
    "collapsed": true
   },
   "outputs": [],
   "source": [
    "# Part of Python standard library\n",
    "import xml.etree.ElementTree as ET\n",
    "import pprint\n",
    "# Makes sense to work with document-oriented XML tree \n",
    "# when parsing XML into a document tree\n",
    "\n",
    "# Mostly working with element objects.\n",
    "\n",
    "# Parsing document into tree\n",
    "tree = ET.parse('exampleResearchArticle.xml')\n",
    "# From tree we're getting the root element.\n",
    "root = tree.getroot()\n",
    "\n",
    "# Then iterate over children of root element and \n",
    "# use tag attribute to print out tag name of each child element.\n"
   ]
  },
  {
   "cell_type": "code",
   "execution_count": null,
   "metadata": {
    "collapsed": true
   },
   "outputs": [],
   "source": [
    "# E.g. extract title from article.\n",
    "\n",
    "# Use find method on root element and using Xpath expression to \n",
    "# express where you expect to find e.g. title element.\n",
    "# Current element -> fm el -> bibl (child) -> title el itself. \n",
    "# Like how you specify a path in many file systems.\n",
    "\n",
    "title = root.find('./fm/bibl/title')\n",
    "# Many text elements in this doc are wrapped in paragraph tags.\n",
    "# Iterate over all children of title\n",
    "for p in title:\n",
    "    # Take text attribute for child\n",
    "    title_text += p.text\n",
    "# and concatenate on with title text.\n",
    "print('\\nTitle:\\n' + title_text)\n",
    "\n",
    "print('\\nAuthor email addresses:')\n",
    "for a in root.findall('./fm/bibl/aug/au'):\n",
    "    email = a.find('email')\n",
    "    if email is not None:\n",
    "        print email.text"
   ]
  },
  {
   "cell_type": "markdown",
   "metadata": {},
   "source": [
    "Methods:\n",
    "1. find\n",
    "2. findall\n",
    "3. (text)"
   ]
  },
  {
   "cell_type": "markdown",
   "metadata": {},
   "source": [
    "### Exercise"
   ]
  },
  {
   "cell_type": "raw",
   "metadata": {},
   "source": [
    "# Sample data\n",
    "\n",
    "<au id=\"A3\">\n",
    "   <snm>Laver</snm>\n",
    "   <fnm>Lior</fnm>\n",
    "   <insr iid=\"I3\"/>\n",
    "   <insr iid=\"I4\"/>\n",
    "   <email>laver17@gmail.com</email>\n",
    "</au>"
   ]
  },
  {
   "cell_type": "code",
   "execution_count": 6,
   "metadata": {
    "collapsed": false
   },
   "outputs": [
    {
     "data": {
      "text/plain": [
       "[{'email': 'omer@extremegate.com', 'fnm': 'Omer', 'snm': 'Mei-Dan'},\n",
       " {'email': 'mcarmont@hotmail.com', 'fnm': 'Mike', 'snm': 'Carmont'},\n",
       " {'email': 'laver17@gmail.com', 'fnm': 'Lior', 'snm': 'Laver'},\n",
       " {'email': 'nyska@internet-zahav.net', 'fnm': 'Meir', 'snm': 'Nyska'},\n",
       " {'email': 'kammarh@gmail.com', 'fnm': 'Hagay', 'snm': 'Kammar'},\n",
       " {'email': 'gideon.mann.md@gmail.com', 'fnm': 'Gideon', 'snm': 'Mann'},\n",
       " {'email': 'barns.nz@gmail.com', 'fnm': 'Barnaby', 'snm': 'Clarck'},\n",
       " {'email': 'eukots@gmail.com', 'fnm': 'Eugene', 'snm': 'Kots'}]"
      ]
     },
     "execution_count": 6,
     "metadata": {},
     "output_type": "execute_result"
    }
   ],
   "source": [
    "#!/usr/bin/env python\n",
    "# Your task here is to extract data from xml on authors of an article\n",
    "# and add it to a list, one item for an author.\n",
    "# See the provided data structure for the expected format.\n",
    "# The tags for first name, surname and email should map directly\n",
    "# to the dictionary keys\n",
    "import xml.etree.ElementTree as ET\n",
    "\n",
    "article_file = \"data/exampleResearchArticle.xml\"\n",
    "\n",
    "\n",
    "def get_root(fname):\n",
    "    tree = ET.parse(fname)\n",
    "    return tree.getroot()\n",
    "\n",
    "\n",
    "def get_authors(root):\n",
    "    authors = []\n",
    "    for author in root.findall('./fm/bibl/aug/au'):\n",
    "        data = {\n",
    "                \"fnm\": None,\n",
    "                \"snm\": None,\n",
    "                \"email\": None\n",
    "        }\n",
    "        \n",
    "        # YOUR CODE HERE\n",
    "        data['fnm'] = author.find('fnm').text\n",
    "        data['snm'] = author.find('snm').text\n",
    "        data['email'] = author.find('email').text            \n",
    "        \n",
    "        authors.append(data)\n",
    "\n",
    "    return authors\n",
    "\n",
    "get_authors(get_root(article_file))"
   ]
  },
  {
   "cell_type": "markdown",
   "metadata": {},
   "source": [
    "**Remember to use the text attribute** or you'll get objects e.g. < Element 'snm' at 0x106681958 >**"
   ]
  },
  {
   "cell_type": "markdown",
   "metadata": {},
   "source": [
    "### Exercise: Handling Attributes\n",
    "* XML tags often contains attribute name-value pairs (e.g. OpenStreetMap data or iid attribute in insr tag which links authors with institutions.)\n",
    "* Because authors may be affiliated with multiple institutions, the iid field needs to be an array."
   ]
  },
  {
   "cell_type": "code",
   "execution_count": 26,
   "metadata": {
    "collapsed": false
   },
   "outputs": [
    {
     "data": {
      "text/plain": [
       "[{'email': 'omer@extremegate.com',\n",
       "  'fnm': 'Omer',\n",
       "  'insr': ['I1'],\n",
       "  'snm': 'Mei-Dan'},\n",
       " {'email': 'mcarmont@hotmail.com',\n",
       "  'fnm': 'Mike',\n",
       "  'insr': ['I2'],\n",
       "  'snm': 'Carmont'},\n",
       " {'email': 'laver17@gmail.com',\n",
       "  'fnm': 'Lior',\n",
       "  'insr': ['I3', 'I4'],\n",
       "  'snm': 'Laver'},\n",
       " {'email': 'nyska@internet-zahav.net',\n",
       "  'fnm': 'Meir',\n",
       "  'insr': ['I3'],\n",
       "  'snm': 'Nyska'},\n",
       " {'email': 'kammarh@gmail.com',\n",
       "  'fnm': 'Hagay',\n",
       "  'insr': ['I8'],\n",
       "  'snm': 'Kammar'},\n",
       " {'email': 'gideon.mann.md@gmail.com',\n",
       "  'fnm': 'Gideon',\n",
       "  'insr': ['I3', 'I5'],\n",
       "  'snm': 'Mann'},\n",
       " {'email': 'barns.nz@gmail.com',\n",
       "  'fnm': 'Barnaby',\n",
       "  'insr': ['I6'],\n",
       "  'snm': 'Clarck'},\n",
       " {'email': 'eukots@gmail.com', 'fnm': 'Eugene', 'insr': ['I7'], 'snm': 'Kots'}]"
      ]
     },
     "execution_count": 26,
     "metadata": {},
     "output_type": "execute_result"
    }
   ],
   "source": [
    "#!/usr/bin/env python\n",
    "# Your task here is to extract data from xml on authors of an article\n",
    "# and add it to a list, one item for an author.\n",
    "# See the provided data structure for the expected format.\n",
    "# The tags for first name, surname and email should map directly\n",
    "# to the dictionary keys, but you have to extract the attributes from the \"insr\" tag\n",
    "# and add them to the list for the dictionary key \"insr\"\n",
    "import xml.etree.ElementTree as ET\n",
    "\n",
    "article_file = \"data/exampleResearchArticle.xml\"\n",
    "\n",
    "\n",
    "def get_root(fname):\n",
    "    tree = ET.parse(fname)\n",
    "    return tree.getroot()\n",
    "\n",
    "\n",
    "def get_authors(root):\n",
    "    authors = []\n",
    "    for author in root.findall('./fm/bibl/aug/au'):\n",
    "        data = {\n",
    "                \"fnm\": None,\n",
    "                \"snm\": None,\n",
    "                \"email\": None,\n",
    "                \"insr\": []\n",
    "        }\n",
    "\n",
    "        # YOUR CODE HERE\n",
    "\n",
    "        data['fnm'] = author.find('fnm').text\n",
    "        data['snm'] = author.find('snm').text\n",
    "        data['email'] = author.find('email').text\n",
    "        for insr in author.findall('insr'): # or author.iter \n",
    "            data['insr'].append(insr.attrib.get('iid'))        \n",
    "        authors.append(data)\n",
    "\n",
    "    return authors\n",
    "\n",
    "def test():\n",
    "    solution = [{'insr': ['I1'], 'fnm': 'Omer', 'snm': 'Mei-Dan', 'email': 'omer@extremegate.com'},\n",
    "                {'insr': ['I2'], 'fnm': 'Mike', 'snm': 'Carmont', 'email': 'mcarmont@hotmail.com'},\n",
    "                {'insr': ['I3', 'I4'], 'fnm': 'Lior', 'snm': 'Laver', 'email': 'laver17@gmail.com'},\n",
    "                {'insr': ['I3'], 'fnm': 'Meir', 'snm': 'Nyska', 'email': 'nyska@internet-zahav.net'},\n",
    "                {'insr': ['I8'], 'fnm': 'Hagay', 'snm': 'Kammar', 'email': 'kammarh@gmail.com'},\n",
    "                {'insr': ['I3', 'I5'], 'fnm': 'Gideon', 'snm': 'Mann', 'email': 'gideon.mann.md@gmail.com'},\n",
    "                {'insr': ['I6'], 'fnm': 'Barnaby', 'snm': 'Clarck', 'email': 'barns.nz@gmail.com'},\n",
    "                {'insr': ['I7'], 'fnm': 'Eugene', 'snm': 'Kots', 'email': 'eukots@gmail.com'}]\n",
    "\n",
    "    root = get_root(article_file)\n",
    "    data = get_authors(root)\n",
    "\n",
    "    assert data[0] == solution[0]\n",
    "    assert data[1][\"insr\"] == solution[1][\"insr\"]\n",
    "\n",
    "get_authors(get_root(article_file))"
   ]
  },
  {
   "cell_type": "raw",
   "metadata": {},
   "source": [
    "# Methods\n",
    "for insr in author.iter('insr'):\n",
    "            data['insr'].append(insr.attrib.get('iid'))\n",
    "            \n",
    "## Getting values from dict\n",
    "dict.get(key, default=None)\n",
    "\n",
    "-> default -- Value to be returned in case key does not exist."
   ]
  },
  {
   "cell_type": "markdown",
   "metadata": {},
   "source": [
    "## 2. Scraping data from a website\n",
    "\n",
    "e.g. US Bureau of Transport Statistics. Say we want to find data on the no. of flights Virgin Atlantic has into and out of Boston Airport.\n",
    "\n",
    "* Use Inspect Element\n",
    "* In some cases, it may be easier to record attributes or data manually than to write a script. E.g. list of carrier values in current example.\n",
    "\n",
    "Data Wrangling Procedure for this example:\n",
    "1. Build values we need to use to make HTTP request: list of carrier values and list of airport values\n",
    "3. Make HTTP requests to download all the data (for easier bug fixing and so we're working with a fixed set of data)\n",
    "4. Then parse the data files."
   ]
  },
  {
   "cell_type": "markdown",
   "metadata": {},
   "source": [
    "### 2.1 Parse HTML using BeautifulSoup"
   ]
  },
  {
   "cell_type": "raw",
   "metadata": {},
   "source": [
    "# HTML snippet\n",
    "...\n",
    "<td style=\"width: 450px\">\n",
    "    <select name=\"CarrierList\" id=\"CarrierList\" class=\"slcBox\" style=\"width:450px;\">\n",
    "        <option value=\"All\">All U.S. and Foreign Carriers</option>\n",
    "        <option value=\"AllUS\">All U.S. Carriers</option>\n",
    "        <option value=\"AllForeign\">All Foreign Carriers</option>\n",
    "        <option value=\"AS\">Alaska Airlines </option>\n",
    "        <option value=\"G4\">Allegiant Air</option>\n",
    "        <option value=\"AA\">American Airlines </option>\n",
    "        <option value=\"5Y\">Atlas Air </option>\n",
    "        ...\n",
    "    </select>\n",
    "</td>"
   ]
  },
  {
   "cell_type": "code",
   "execution_count": null,
   "metadata": {
    "collapsed": true
   },
   "outputs": [],
   "source": [
    "from bs4 import BeautifulSoup\n",
    "\n",
    "def options(soup, id):\n",
    "    option_values = []\n",
    "    # Passes first descendant element where id = CarrierList, say.\n",
    "    carrier_list = soup.find(id=id)\n",
    "    for option in carrier_list.find_all('option'):\n",
    "        option_values.append(option['value'])\n",
    "    return option_values\n",
    "\n",
    "def print_list(label, codes):\n",
    "    print \"\\n%s\" % label\n",
    "    for c in codes:\n",
    "        print c\n",
    "\n",
    "def main():\n",
    "    # Open website HTML doc\n",
    "    # Soup passes you top level element\n",
    "    soup = BeautifulSoup(open(\"virgin_and_logan_airport.html\"))\n",
    "    \n",
    "    \n",
    "    codes = options(soup, 'CarrierList')\n",
    "    print_list(\"Carriers\", codes)\n",
    "    \n",
    "    codes = options(soup, 'AirportList')\n",
    "    print_list(\"Airports\", codes)"
   ]
  },
  {
   "cell_type": "markdown",
   "metadata": {},
   "source": [
    "### 2.2 Building HTTP requests: Understand how requests are submitted to website \n",
    "* Check out HTML\n",
    "* Ask browser how exactly it's making requests: Open Network tab and submit request again. -> Form Data"
   ]
  },
  {
   "cell_type": "raw",
   "metadata": {},
   "source": [
    "# Dropdown:\n",
    "<form method=\"post\" action=\"./Data_Elements.aspx?Data=2\" id=\"form1\">\n",
    "\n",
    "URL is http://www.transtats.bts.gov/Data_Elements.aspx?Data=2"
   ]
  },
  {
   "cell_type": "markdown",
   "metadata": {},
   "source": [
    "From Form Data we have eight fields:\n",
    "* \\_\\_EVENTTARGET\n",
    "* \\_\\_EVENTARGUMENT\n",
    "* \\_\\_VIEWSTATE: *mess*\n",
    "* \\_\\_VIEWSTATEGENERATOR: 8E3A4798\n",
    "* \\_\\_EVENTVALIDATION: *mess*\n",
    "* CarrierList:VX\n",
    "* AirportList:BOS\n",
    "* Submit:Submit\n",
    "\n",
    "Conclude that there are **hidden form elements**."
   ]
  },
  {
   "cell_type": "raw",
   "metadata": {},
   "source": [
    "<form method=\"post\" action=\"./Data_Elements.aspx?Data=2\" id=\"form1\">\n",
    "    <div class=\"aspNetHidden\">\n",
    "        <input type=\"hidden\" name=\"__EVENTTARGET\" id=\"__EVENTTARGET\" value=\"\" />\n",
    "        <input type=\"hidden\" name=\"__EVENTARGUMENT\" id=\"__EVENTARGUMENT\" value=\"\" />\n",
    "        <input type=\"hidden\" name=\"__VIEWSTATE\" id=\"__VIEWSTATE\" value=\"/wEP...\" />\n",
    "\n",
    "    <script type=\"text/javascript\">\n",
    "    //<![CDATA[\n",
    "    var theForm = document.forms['form1'];\n",
    "    if (!theForm) {\n",
    "        theForm = document.form1;\n",
    "    }\n",
    "    function __doPostBack(eventTarget, eventArgument) {\n",
    "        if (!theForm.onsubmit || (theForm.onsubmit() != false)) {\n",
    "            theForm.__EVENTTARGET.value = eventTarget;\n",
    "            theForm.__EVENTARGUMENT.value = eventArgument;\n",
    "            theForm.submit();\n",
    "        }\n",
    "    }\n",
    "    //]]>\n",
    "    </script>\n",
    "\n",
    "\n",
    "    <div class=\"aspNetHidden\">\n",
    "\n",
    "        <input type=\"hidden\" name=\"__VIEWSTATEGENERATOR\" id=\"__VIEWSTATEGENERATOR\" value=\"8E3A4798\" />\n",
    "        <input type=\"hidden\" name=\"__EVENTVALIDATION\" id=\"__EVENTVALIDATION\" value=\"/wEd...\" />\n",
    "    "
   ]
  },
  {
   "cell_type": "code",
   "execution_count": null,
   "metadata": {
    "collapsed": true
   },
   "outputs": [],
   "source": [
    "#!/usr/bin/env python\n",
    "# -*- coding: utf-8 -*-\n",
    "# Please note that the function 'make_request' is provided for your reference only.\n",
    "# You will not be able to to actually use it from within the Udacity web UI.\n",
    "# Your task is to process the HTML using BeautifulSoup, extract the hidden\n",
    "# form field values for \"__EVENTVALIDATION\" and \"__VIEWSTATE\" and set the appropriate\n",
    "# values in the data dictionary.\n",
    "# All your changes should be in the 'extract_data' function\n",
    "from bs4 import BeautifulSoup\n",
    "import requests\n",
    "import json\n",
    "\n",
    "html_page = \"page_source.html\"\n",
    "\n",
    "\n",
    "def extract_data(page):\n",
    "    data = {\"eventvalidation\": \"\",\n",
    "            \"viewstate\": \"\"}\n",
    "    with open(page, \"r\") as html:\n",
    "        # Write code here to find the necessary values\n",
    "        soup = BeautifulSoup(html, 'lxml')\n",
    "        data[\"eventvalidation\"] = soup.find(id = \"__EVENTVALIDATION\")['value']\n",
    "        data[\"viewstate\"] = soup.find(id = \"__VIEWSTATE\")['value']\n",
    "\n",
    "    return data\n",
    "\n",
    "\n",
    "def make_request(data):\n",
    "    eventvalidation = data[\"eventvalidation\"]\n",
    "    viewstate = data[\"viewstate\"]\n",
    "\n",
    "    r = requests.post(\"http://www.transtats.bts.gov/Data_Elements.aspx?Data=2\",\n",
    "                    data={'AirportList': \"BOS\", # We'd actually loop through our lists\n",
    "                          'CarrierList': \"VX\",\n",
    "                          'Submit': 'Submit',\n",
    "                          \"__EVENTTARGET\": \"\",\n",
    "                          \"__EVENTARGUMENT\": \"\",\n",
    "                          \"__EVENTVALIDATION\": eventvalidation,\n",
    "                          \"__VIEWSTATE\": viewstate\n",
    "                    })\n",
    "    f = open(\"virgin_and_logan_airport.html\", \"w\")\n",
    "    f.write(r.text)\n",
    "\n",
    "\n",
    "def test():\n",
    "    data = extract_data(html_page)\n",
    "    assert data[\"eventvalidation\"] != \"\"\n",
    "    assert data[\"eventvalidation\"].startswith(\"/wEWjAkCoIj1ng0\")\n",
    "    assert data[\"viewstate\"].startswith(\"/wEPDwUKLTI\")\n",
    "\n",
    "extract_data(html_page)"
   ]
  },
  {
   "cell_type": "raw",
   "metadata": {},
   "source": [
    "Accessing an attribute in bs4 using square brackets: \n",
    "\n",
    "## Function\n",
    "def extract_data(page):\n",
    "    data = {\"eventvalidation\": \"\",\n",
    "            \"viewstate\": \"\"}\n",
    "    with open(page, \"r\") as html:\n",
    "        soup = BeautifulSoup(html, 'lxml')\n",
    "        # do something here to find the necessary values\n",
    "        data[\"eventvalidation\"] = soup.find(id = \"__EVENTVALIDATION\")\n",
    "        data[\"viewstate\"] = soup.find(id = \"__VIEWSTATE\")['value']\n",
    "        \n",
    "    print(data)\n",
    "    \n",
    "extract_data(html_page)\n",
    "\n",
    "## Output:\n",
    "{'eventvalidation': <input id=\"__EVENTVALIDATION\" name=\"__EVENTVALIDATION\" type=\"hidden\" value=\"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\"/>,\n",
    "'viewstate': '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'}"
   ]
  },
  {
   "cell_type": "markdown",
   "metadata": {},
   "source": [
    "Why are those values here?\n",
    "-> Used to validate requests.\n",
    "* Why \\_\\_VIEWSTATE -> view ASP documentation.\n",
    "\n",
    "Found broken request: instead of data we have a syntax error.\n",
    "\n",
    "Best practices for scraping:\n",
    "1. Look at how a browser makes requests via dev tools. Can also look at wire traffic if necessary.\n",
    "2. Emulate in code\n",
    "3. If stuff blows up, look at http traffic.\n",
    "4. Return to (1) until it works.\n",
    "\n",
    "Go back to network panel and scroll around.\n",
    "* Cookie data -> Use Session object."
   ]
  },
  {
   "cell_type": "code",
   "execution_count": null,
   "metadata": {
    "collapsed": true
   },
   "outputs": [],
   "source": [
    "# Solution (from video)\n",
    "def make_request(data):\n",
    "    s = requests.Session()\n",
    "    \n",
    "    r = s.get(\"http://www.transtats.bts.gov/Data_Elements.aspx?Data=2\")\n",
    "    soup = BeautifulSoup(r.text)\n",
    "    viewstate = soup.find(id=\"__VIEWSTATE\")[\"value\"]\n",
    "    eventvalidation = soup.find(id=\"__EVENTVALIDATION\")[\"value\"]\n",
    "    \n",
    "    r = s.post(\"http://www.transtats.bts.gov/Data_Elements.aspx?Data=2\",\n",
    "                    data={'AirportList': \"BOS\", # We'd actually loop through our lists\n",
    "                          'CarrierList': \"VX\",\n",
    "                          'Submit': 'Submit',\n",
    "                          \"__EVENTTARGET\": \"\",\n",
    "                          \"__EVENTARGUMENT\": \"\",\n",
    "                          \"__EVENTVALIDATION\": eventvalidation,\n",
    "                          \"__VIEWSTATE\": viewstate\n",
    "                    })\n",
    "    f = open(\"virgin_and_logan_airport.html\", \"w\")\n",
    "    f.write(r.text)\n"
   ]
  },
  {
   "cell_type": "markdown",
   "metadata": {},
   "source": [
    "## Problem Set\n",
    "### 1, 2. Carrier and Airport Lists"
   ]
  },
  {
   "cell_type": "code",
   "execution_count": 27,
   "metadata": {
    "collapsed": true
   },
   "outputs": [],
   "source": [
    "def extract_carriers(page):\n",
    "    data = []\n",
    "\n",
    "    with open(page, \"r\") as html:\n",
    "        # do something here to find the necessary values\n",
    "        soup = BeautifulSoup(html, \"lxml\")\n",
    "        carrier_list = soup.find(id=\"CarrierList\")\n",
    "        for carrier in carrier_list.find_all('option'):\n",
    "            if 'All' not in carrier['value']:\n",
    "                data.append(carrier['value'])\n",
    "    return data\n",
    "\n",
    "def extract_airports(page):\n",
    "    data = []\n",
    "    with open(page, \"r\") as html:\n",
    "        # do something here to find the necessary values\n",
    "        soup = BeautifulSoup(html, \"lxml\")\n",
    "        airport_list = soup.find(id=\"AirportList\")\n",
    "        for airport in airport_list.find_all(\"option\"):\n",
    "            value = airport[\"value\"]\n",
    "            if \"All\" not in value:\n",
    "                data.append(value)\n",
    "    return data\n"
   ]
  },
  {
   "cell_type": "markdown",
   "metadata": {},
   "source": [
    "### 3. Processing All Data"
   ]
  },
  {
   "cell_type": "code",
   "execution_count": 28,
   "metadata": {
    "collapsed": false
   },
   "outputs": [
    {
     "ename": "ValueError",
     "evalue": "not enough values to unpack (expected 2, got 1)",
     "output_type": "error",
     "traceback": [
      "\u001b[0;31m---------------------------------------------------------------------------\u001b[0m",
      "\u001b[0;31mValueError\u001b[0m                                Traceback (most recent call last)",
      "\u001b[0;32m<ipython-input-28-6ec4750d4c53>\u001b[0m in \u001b[0;36m<module>\u001b[0;34m()\u001b[0m\n\u001b[1;32m     39\u001b[0m \u001b[0;34m\u001b[0m\u001b[0m\n\u001b[1;32m     40\u001b[0m \u001b[0mhtml_page\u001b[0m \u001b[0;34m=\u001b[0m \u001b[0;34m\"data/html_page.html\"\u001b[0m\u001b[0;34m\u001b[0m\u001b[0m\n\u001b[0;32m---> 41\u001b[0;31m \u001b[0mprocess_file\u001b[0m\u001b[0;34m(\u001b[0m\u001b[0mhtml_page\u001b[0m\u001b[0;34m)\u001b[0m\u001b[0;34m\u001b[0m\u001b[0m\n\u001b[0m",
      "\u001b[0;32m<ipython-input-28-6ec4750d4c53>\u001b[0m in \u001b[0;36mprocess_file\u001b[0;34m(f)\u001b[0m\n\u001b[1;32m     21\u001b[0m     \u001b[0mdata\u001b[0m \u001b[0;34m=\u001b[0m \u001b[0;34m[\u001b[0m\u001b[0;34m]\u001b[0m\u001b[0;34m\u001b[0m\u001b[0m\n\u001b[1;32m     22\u001b[0m     \u001b[0minfo\u001b[0m \u001b[0;34m=\u001b[0m \u001b[0;34m{\u001b[0m\u001b[0;34m}\u001b[0m\u001b[0;34m\u001b[0m\u001b[0m\n\u001b[0;32m---> 23\u001b[0;31m     \u001b[0minfo\u001b[0m\u001b[0;34m[\u001b[0m\u001b[0;34m\"courier\"\u001b[0m\u001b[0;34m]\u001b[0m\u001b[0;34m,\u001b[0m \u001b[0minfo\u001b[0m\u001b[0;34m[\u001b[0m\u001b[0;34m\"airport\"\u001b[0m\u001b[0;34m]\u001b[0m \u001b[0;34m=\u001b[0m \u001b[0mf\u001b[0m\u001b[0;34m[\u001b[0m\u001b[0;34m:\u001b[0m\u001b[0;36m6\u001b[0m\u001b[0;34m]\u001b[0m\u001b[0;34m.\u001b[0m\u001b[0msplit\u001b[0m\u001b[0;34m(\u001b[0m\u001b[0;34m\"-\"\u001b[0m\u001b[0;34m)\u001b[0m\u001b[0;34m\u001b[0m\u001b[0m\n\u001b[0m\u001b[1;32m     24\u001b[0m     \u001b[0;31m# Note: create a new dictionary for each entry in the output data list.\u001b[0m\u001b[0;34m\u001b[0m\u001b[0;34m\u001b[0m\u001b[0m\n\u001b[1;32m     25\u001b[0m     \u001b[0;31m# If you use the info dictionary defined here each element in the list\u001b[0m\u001b[0;34m\u001b[0m\u001b[0;34m\u001b[0m\u001b[0m\n",
      "\u001b[0;31mValueError\u001b[0m: not enough values to unpack (expected 2, got 1)"
     ]
    }
   ],
   "source": [
    "def process_file(f):\n",
    "    \"\"\"\n",
    "    This function extracts data from the file given as the function argument in\n",
    "    a list of dictionaries. This is example of the data structure you should\n",
    "    return:\n",
    "\n",
    "    data = [{\"courier\": \"FL\",\n",
    "             \"airport\": \"ATL\",\n",
    "             \"year\": 2012,\n",
    "             \"month\": 12,\n",
    "             \"flights\": {\"domestic\": 100,\n",
    "                         \"international\": 100}\n",
    "            },\n",
    "            {\"courier\": \"...\"}\n",
    "    ]\n",
    "\n",
    "\n",
    "    Note - year, month, and the flight data should be integers.\n",
    "    You should skip the rows that contain the TOTAL data for a year.\n",
    "    \"\"\"\n",
    "    data = []\n",
    "    info = {}\n",
    "    info[\"courier\"], info[\"airport\"] = f[:6].split(\"-\")\n",
    "    # Note: create a new dictionary for each entry in the output data list.\n",
    "    # If you use the info dictionary defined here each element in the list \n",
    "    # will be a reference to the same info dictionary.\n",
    "    with open(\"{}/{}\".format(datadir, f), \"r\") as html:\n",
    "\n",
    "        soup = BeautifulSoup(html, \"lxml\")\n",
    "        rows = soup.find_all(\"TDRight\")\n",
    "        for row in rows:\n",
    "            cols = row.find_all(\"td\")\n",
    "            info[\"year\"] = cols.text[0]\n",
    "            info[\"month\"] = cols.text[1]\n",
    "            info[\"flights\"] = cols.text[4]\n",
    "            if info[\"month\"] != \"TOTAL\":\n",
    "                data.append(info)\n",
    "    return data\n",
    "\n",
    "html_page = \"data/html_page.html\"\n",
    "process_file(html_page)"
   ]
  },
  {
   "cell_type": "markdown",
   "metadata": {},
   "source": [
    "### 4,5. Patent Database\n",
    "\n",
    "Figure out the error in the datafile. "
   ]
  },
  {
   "cell_type": "code",
   "execution_count": null,
   "metadata": {
    "collapsed": true
   },
   "outputs": [],
   "source": [
    "#!/usr/bin/env python\n",
    "# -*- coding: utf-8 -*-\n",
    "\"\"\"\n",
    "This and the following exercise are using US Patent database. The patent.data\n",
    "file is a small excerpt of much larger datafiles that are available for\n",
    "download from US Patent website. These files are pretty large ( >100 MB each).\n",
    "The original file is ~600MB large, you might not be able to open it in a text\n",
    "editor.\n",
    "\n",
    "The data itself is in XML, however there is a problem with how it's formatted.\n",
    "Please run this script and observe the error. Then find the line that is\n",
    "causing the error. You can do that by just looking at the datafile in the web\n",
    "UI, or programmatically. For quiz purposes it does not matter, but as an\n",
    "exercise we suggest that you try to do it programmatically.\n",
    "\n",
    "NOTE: You do not need to correct the error - for now, just find where the error\n",
    "is occurring.\n",
    "\"\"\"\n",
    "\n",
    "import xml.etree.ElementTree as ET\n",
    "\n",
    "PATENTS = 'patent.data'\n",
    "\n",
    "def get_root(fname):\n",
    "\n",
    "    tree = ET.parse(fname)\n",
    "    return tree.getroot()\n",
    "\n",
    "\n",
    "get_root(PATENTS)"
   ]
  },
  {
   "cell_type": "raw",
   "metadata": {},
   "source": [
    "# The code above returned:\n",
    "\n",
    "Traceback (most recent call last):\n",
    "  File \"vm_main.py\", line 33, in <module>\n",
    "    import main\n",
    "  File \"/tmp/vmuser_kztwejqsup/main.py\", line 2, in <module>\n",
    "    import studentMain\n",
    "  File \"/tmp/vmuser_kztwejqsup/studentMain.py\", line 1, in <module>\n",
    "    import patent\n",
    "  File \"/tmp/vmuser_kztwejqsup/patent.py\", line 30, in <module>\n",
    "    get_root(PATENTS)\n",
    "  File \"/tmp/vmuser_kztwejqsup/patent.py\", line 26, in get_root\n",
    "    tree = ET.parse(fname)\n",
    "  File \"/usr/lib/python2.7/xml/etree/ElementTree.py\", line 1182, in parse\n",
    "    tree.parse(source, parser)\n",
    "  File \"/usr/lib/python2.7/xml/etree/ElementTree.py\", line 656, in parse\n",
    "    parser.feed(data)\n",
    "  File \"/usr/lib/python2.7/xml/etree/ElementTree.py\", line 1642, in feed\n",
    "    self._raiseerror(v)\n",
    "  File \"/usr/lib/python2.7/xml/etree/ElementTree.py\", line 1506, in _raiseerror\n",
    "    raise err\n",
    "xml.etree.ElementTree.ParseError: junk after document element: line 657, column 0"
   ]
  },
  {
   "cell_type": "raw",
   "metadata": {},
   "source": [
    "Lines 657-659 of the datafile:\n",
    "\n",
    "<?xml version=\"1.0\" encoding=\"UTF-8\"?>\n",
    "<!DOCTYPE us-patent-grant SYSTEM \"us-patent-grant-v44-2013-05-16.dtd\" [ ]>\n",
    "<us-patent-grant lang=\"EN\" dtd-version=\"v4.4 2013-05-16\" file=\"USD0696837-20140107.XML\" status=\"PRODUCTION\" id=\"us-patent-grant\" country=\"US\" date-produced=\"20131224\" date-publ=\"20140107\">\n",
    "\n",
    "Lines 1-3 of the datafile:\n",
    "<?xml version=\"1.0\" encoding=\"UTF-8\"?>\n",
    "<!DOCTYPE us-patent-grant SYSTEM \"us-patent-grant-v44-2013-05-16.dtd\" [ ]>\n",
    "<us-patent-grant lang=\"EN\" dtd-version=\"v4.4 2013-05-16\" file=\"USD0696836-20140107.XML\" status=\"PRODUCTION\" id=\"us-patent-grant\" country=\"US\" date-produced=\"20131224\" date-publ=\"20140107\">\n",
    "\n",
    "(For investigative purposes:\n",
    "\n",
    "Lines 1072-4 of the datafile:\n",
    "<!DOCTYPE us-patent-grant SYSTEM \"us-patent-grant-v44-2013-05-16.dtd\" [ ]>\n",
    "<us-patent-grant lang=\"EN\" dtd-version=\"v4.4 2013-05-16\" file=\"USD0696838-20140107.XML\" status=\"PRODUCTION\" id=\"us-patent-grant\" country=\"US\" date-produced=\"20131224\" date-publ=\"20140107\">\n",
    "\n",
    ")\n",
    "\n",
    "Note that the file attribute of us-patent-grant in each group is different."
   ]
  },
  {
   "cell_type": "markdown",
   "metadata": {},
   "source": [
    "Is it problematic that lines 657-8 and lines 1-2 are the same? There was no error for lines 1-2. The error message refers to line 657, so perhaps the <?xml ... ?> repeat is the issue? (uDacity said my answer was correct.)\n",
    "\n",
    "uDacity's full answer given in Part 6 of the quiz:\n",
    "\n",
    "'So, the problem is that the gigantic file is actually not a valid XML, because it has several root elements, and XML declarations.\n",
    "It is, a matter of fact, a collection of a lot of concatenated XML documents.\n",
    "So, one solution would be to split the file into separate documents, so that you can process the resulting files as valid XML documents.'"
   ]
  },
  {
   "cell_type": "code",
   "execution_count": null,
   "metadata": {
    "collapsed": true
   },
   "outputs": [],
   "source": []
  }
 ],
 "metadata": {
  "kernelspec": {
   "display_name": "Python 3",
   "language": "python",
   "name": "python3"
  },
  "language_info": {
   "codemirror_mode": {
    "name": "ipython",
    "version": 3
   },
   "file_extension": ".py",
   "mimetype": "text/x-python",
   "name": "python",
   "nbconvert_exporter": "python",
   "pygments_lexer": "ipython3",
   "version": "3.5.1"
  }
 },
 "nbformat": 4,
 "nbformat_minor": 0
}

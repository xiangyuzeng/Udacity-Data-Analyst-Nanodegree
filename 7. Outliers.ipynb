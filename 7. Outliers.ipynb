{
 "cells": [
  {
   "cell_type": "markdown",
   "metadata": {},
   "source": [
    "# 7. Outliers\n",
    "\n",
    "What causes outliers?\n",
    "- Sensor malfunction (get 0s in robotics) -> Ignore\n",
    "- Data entry errors -> Ignore\n",
    "- Freak events -> Want to pay attention to these. E.g. in fraud detection, you care a LOT about anomalies.\n",
    "\n",
    "## Outlier Detection\n",
    "\n",
    "1. Train with all data\n",
    "2. Remove ~10% of data (points with highest residual error)\n",
    "3. Train again\n",
    "-> Should converge to better solution\n",
    "\n",
    "[img](images/7-11.png)\n",
    "\n"
   ]
  }
 ],
 "metadata": {
  "kernelspec": {
   "display_name": "Python 3",
   "language": "python",
   "name": "python3"
  },
  "language_info": {
   "codemirror_mode": {
    "name": "ipython",
    "version": 3
   },
   "file_extension": ".py",
   "mimetype": "text/x-python",
   "name": "python",
   "nbconvert_exporter": "python",
   "pygments_lexer": "ipython3",
   "version": "3.5.1"
  }
 },
 "nbformat": 4,
 "nbformat_minor": 0
}

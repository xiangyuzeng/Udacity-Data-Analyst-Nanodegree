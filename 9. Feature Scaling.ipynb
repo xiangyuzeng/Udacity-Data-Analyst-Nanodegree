{
 "cells": [
  {
   "cell_type": "markdown",
   "metadata": {},
   "source": [
    "# 9. Feature Scaling\n",
    "\n",
    "Pre-processing features\n",
    "E.g. choosing T-shirt size based on feature `height + weight`, height in feet and weight in pounds.\n",
    "-> Imbalanced features where height is in range [5,7] and weight is in [115, 75].\n",
    "-> **Rescale features so they span comparable ranges, usually between 0 and 1.**\n",
    "\n",
    "$$x' = \\frac{x-x_min}{x_max-x_min}$$\n",
    "where $x'$ is the rescaled feature.\n",
    "\n",
    "$$0\\leq x' \\leq 1$$\n",
    "- Adv: Standardised\n",
    "- Disadv: Outliers can skew ranges.\n",
    "\n"
   ]
  },
  {
   "cell_type": "code",
   "execution_count": 2,
   "metadata": {
    "collapsed": true
   },
   "outputs": [],
   "source": [
    "def rescale(input_features):\n",
    "    min = mini(input_features)\n",
    "    max = maxi(input_features)\n",
    "    output_features = (input_features - min)/(max - min)\n",
    "    return output_features"
   ]
  },
  {
   "cell_type": "markdown",
   "metadata": {},
   "source": [
    "## MinMaxScaler in `sk-learn`"
   ]
  },
  {
   "cell_type": "code",
   "execution_count": 4,
   "metadata": {
    "collapsed": false
   },
   "outputs": [
    {
     "data": {
      "text/plain": [
       "array([[ 0.        ],\n",
       "       [ 0.41666667],\n",
       "       [ 1.        ]])"
      ]
     },
     "execution_count": 4,
     "metadata": {},
     "output_type": "execute_result"
    }
   ],
   "source": [
    "from sklearn.preprocessing import MinMaxScaler\n",
    "import numpy\n",
    "\n",
    "# Each el of numpy array is a different training point.\n",
    "# Each el within training point is a feature.\n",
    "# One feature here\n",
    "weights = numpy.array([[115.], [140.], [175.]])\n",
    "\n",
    "# Our scaler\n",
    "scaler = MinMaxScaler()\n",
    "\n",
    "# New feature \n",
    "# Fits (finds x_min, x_max)\n",
    "# Transform (applies formula to all elements in set of data)\n",
    "rescaled_weight = scaler.fit_transform(weights)\n",
    "\n",
    "rescaled_weight"
   ]
  },
  {
   "cell_type": "markdown",
   "metadata": {},
   "source": [
    "Algorithms affected by feature rescaling:\n",
    "- SVM with RBF kernel\n",
    "- K-means clustering\n",
    "    - Because there is a cluster center and you compute distance between center and points. Distance twice as large -> counts for twice as much.\n",
    "\n",
    "(vs Decision Trees, Linear Regression not.)\n",
    "    - DT: Series of vertical and horizontal lines (not diagonal) so no tradeoff.\n",
    "    - LR: Each feature has a coeff associated with it. Doesn't affect other variable."
   ]
  }
 ],
 "metadata": {
  "anaconda-cloud": {},
  "kernelspec": {
   "display_name": "Python [Root]",
   "language": "python",
   "name": "Python [Root]"
  },
  "language_info": {
   "codemirror_mode": {
    "name": "ipython",
    "version": 3
   },
   "file_extension": ".py",
   "mimetype": "text/x-python",
   "name": "python",
   "nbconvert_exporter": "python",
   "pygments_lexer": "ipython3",
   "version": "3.5.1"
  }
 },
 "nbformat": 4,
 "nbformat_minor": 0
}

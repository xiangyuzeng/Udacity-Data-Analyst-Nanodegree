{
 "cells": [
  {
   "cell_type": "markdown",
   "metadata": {},
   "source": [
    "# 3.4 Working with MongoDB\n",
    "\n",
    "## 3.4.1 Intro to MongoDB\n",
    "MongoDB is a NoSQL database. It is widely used in Big Data.\n",
    "\n",
    "It is also called a **Document Database**. By document, we don't mean PDFs or .doc files but associative arrays such as JSON objects, PHP arrays, Python dictionaries or Ruby hashes.\n",
    "\n",
    "MongoDB stores these hierarchical data structures directly in the database as individual items or documents. It uses JSON-like syntax.\n",
    "\n",
    "**Data Modeling in MongoDB**\n",
    "* e.g. Tesla Motors\n",
    "* Start with scalar values\n",
    "\n",
    "Scalar values\n",
    "Array fields\n",
    "Embedded documents\n",
    "\n",
    "-> MongoDB natively supports JSON. Can store data items like this and do queries e.g. draw out all data where cities = Fremont, even when it's nested a few layers deep.\n",
    "\n",
    "(Opt: Insert code from data modelling in MongoDB video)\n",
    "\n",
    "**Why MongoDB?**\n",
    "* Flexible schema -> more easily handle flat data e.g. csv as well as hierarchical data\n",
    "* Oriented towards programmers: JSON maps onto e.g. Python dictionaries\n",
    "* MongoDB supports drivers (client libraries) from most languages -> translate to and from native datatypes in the language\n",
    "* Flexible deployment: One laptop or multiple servers with several daemons running\n",
    "* Designed for big data: Highly scalable horizontally on commodity hardware, includes native support for MapReduce\n",
    "* Includes aggregation framework which enables efficient analytics applications"
   ]
  },
  {
   "cell_type": "code",
   "execution_count": null,
   "metadata": {
    "collapsed": true
   },
   "outputs": [],
   "source": [
    "# Exercise\n",
    "\"\"\"\n",
    "Your task is to sucessfully run the exercise to see how pymongo works\n",
    "and how easy it is to start using it.\n",
    "You don't actually have to change anything in this exercise,\n",
    "but you can change the city name in the add_city function if you like.\n",
    "\n",
    "Your code will be run against a MongoDB instance that we have provided.\n",
    "If you want to run this code locally on your machine,\n",
    "you have to install MongoDB (see Instructor comments for link to installation information)\n",
    "and uncomment the get_db function.\n",
    "\"\"\"\n",
    "\n",
    "def add_city(db):\n",
    "    # Changes to this function will be reflected in the output. \n",
    "    # All other functions are for local use only.\n",
    "    # Try changing the name of the city to be inserted\n",
    "    db.cities.insert({\"name\" : \"Chicago\"})\n",
    "    \n",
    "def get_city(db):\n",
    "    return db.cities.find_one()\n",
    "\n",
    "def get_db():\n",
    "    # For local use\n",
    "    from pymongo import MongoClient\n",
    "    client = MongoClient('localhost:27017')\n",
    "    # 'examples' here is the database name. It will be created if it does not exist.\n",
    "    db = client.examples\n",
    "    return db\n",
    "\n",
    "if __name__ == \"__main__\":\n",
    "    # For local use\n",
    "    # db = get_db() # uncomment this line if you want to run this locally\n",
    "    add_city(db)\n",
    "    print get_city(db)"
   ]
  },
  {
   "cell_type": "raw",
   "metadata": {},
   "source": [
    "# Returns:\n",
    "{u'_id': ObjectId('577489108483f5448d513d04'), u'name': u'Chicago'}"
   ]
  },
  {
   "cell_type": "markdown",
   "metadata": {},
   "source": [
    "### Flexible Schema\n",
    "\n",
    "Deal with 2 problems:\n",
    "* Some documents will have fields that others do not.\n",
    "* Data models usually go through several iterations\n",
    "\n",
    "E.g.: Person infobox data: Some people have a child, some have more than one, some don't.\n",
    "Indexing system and query execution system take this into account, e.g. can query for people with 2+ children.\n",
    "\n",
    "Choose a schema that is easy to work with when designing your collections.\n",
    "\n",
    "### 3.4.1.2 Intro to PyMongo\n",
    "PyMongo is one of MongoDB's drivers (client libraries).\n",
    "\n",
    "Find out more about other drivers at api.mongodb.org\n",
    "\n",
    "#### Application Architecture\n",
    "PyMongo module communicates with DB using wire protocol. Data exchanged in format called BSON (binary encoding for JSON).\n",
    "MongoD is the daemon.\n"
   ]
  },
  {
   "cell_type": "code",
   "execution_count": null,
   "metadata": {
    "collapsed": true
   },
   "outputs": [],
   "source": [
    "from pymongo import MongoClient\n",
    "import pprint\n",
    "\n",
    "# Create client object and specify connection string\n",
    "client = MongoClient('mongodb://localhost:27017/')\n",
    "\n",
    "# Encoding of Tesla as a client dictionary\n",
    "tesla_s = {\n",
    "    \"manufacturer\": \"Tesla Motors\",\n",
    "    \"class\" : \"full-size luxury\",\n",
    "    \"body\" : \"5-door liftback\",\n",
    "    \"production\" : [2012, 2013, 2014, 2015, 2016]\n",
    "    \"model years\" : [2012, 2013, 2014, 2015, 2016]\n",
    "    \"layout\" : [\"rear-motor\", \"rear-wheel drive\", \"dual motor all-wheel drive\"]\n",
    "    \"designer\" : {\n",
    "        \"firstname\" : \"Franz\",\n",
    "        \"lastname\" : \"von Holzhausen\"\n",
    "    },\n",
    "    \"assembly\" : [\n",
    "        {\n",
    "            \"country\" : \"United States\",\n",
    "            \"city\" : \"Fremont\",\n",
    "            \"state\" : \"California\"\n",
    "        },\n",
    "        {\n",
    "            \"country\" : \"The Netherlands\",\n",
    "            \"city\" : \"Tilburg\"\n",
    "        }\n",
    "    ]\n",
    "}\n",
    "\n",
    "# Use examples database\n",
    "db = client.examples\n",
    "# Insert this document in autos collection for examples database\n",
    "db.autos.insert(tesla_s)\n",
    "\n",
    "# Do a find query. Gives us back cursor for all documents.\n",
    "for a in db.autos.find():\n",
    "    # Print doc out for every doc we get back\n",
    "    pprint.pprint(a)\n",
    "\n",
    "# We get an additional \"id\" : ObjectId(string) field."
   ]
  },
  {
   "cell_type": "markdown",
   "metadata": {},
   "source": [
    "## 3.4.2 Field Queries\n",
    "* Single field queries\n",
    "* Multiple field queries\n",
    "* Projection queries"
   ]
  },
  {
   "cell_type": "code",
   "execution_count": null,
   "metadata": {
    "collapsed": true
   },
   "outputs": [],
   "source": [
    "# Querying using field selection\n",
    "\n",
    "from pymongo import MongoClient\n",
    "import pprint\n",
    "\n",
    "def find():\n",
    "    # Construct query oducment with field and value for field(s) \n",
    "    # we'd like to see for every document in our result set.\n",
    "    autos = db.autos.find({\"manufacturer\": \"Toyota\"})\n",
    "    for a in autos:\n",
    "        pprint.pprint(a)\n",
    "\n",
    "if __name__ == '__main__':\n",
    "    find()"
   ]
  },
  {
   "cell_type": "code",
   "execution_count": null,
   "metadata": {
    "collapsed": true
   },
   "outputs": [],
   "source": [
    "# Exercise\n",
    "\n",
    "#!/usr/bin/env python\n",
    "\"\"\"\n",
    "Your task is to complete the 'porsche_query' function and in particular the query\n",
    "to find all autos where the manufacturer field matches \"Porsche\".\n",
    "Please modify only 'porsche_query' function, as only that will be taken into account.\n",
    "\n",
    "Your code will be run against a MongoDB instance that we have provided.\n",
    "If you want to run this code locally on your machine,\n",
    "you have to install MongoDB and download and insert the dataset.\n",
    "For instructions related to MongoDB setup and datasets please see Course Materials at\n",
    "the following link:\n",
    "https://www.udacity.com/wiki/ud032\n",
    "\"\"\"\n",
    "\n",
    "def porsche_query():\n",
    "    # Please fill in the query to find all autos manuafactured by Porsche.\n",
    "    query = {\"manufacturer\" : \"Porsche\"}\n",
    "    return query\n",
    "\n",
    "\n",
    "# Do not edit code below this line in the online code editor.\n",
    "# Code here is for local use on your own computer.\n",
    "def get_db(db_name):\n",
    "    # For local use\n",
    "    from pymongo import MongoClient\n",
    "    client = MongoClient('localhost:27017')\n",
    "    db = client[db_name]\n",
    "    return db\n",
    "\n",
    "def find_porsche(db, query):\n",
    "    # For local use\n",
    "    return db.autos.find(query)\n",
    "\n",
    "\n",
    "if __name__ == \"__main__\":\n",
    "    # For local use\n",
    "    db = get_db('examples')\n",
    "    query = porsche_query()\n",
    "    results = find_porsche(db, query)\n",
    "\n",
    "    print \"Printing first 3 results\\n\"\n",
    "    import pprint\n",
    "    for car in results[:3]:\n",
    "        pprint.pprint(car)"
   ]
  },
  {
   "cell_type": "code",
   "execution_count": null,
   "metadata": {
    "collapsed": true
   },
   "outputs": [],
   "source": [
    "# Multiple field queries\n",
    "\n",
    "from pymongo import MongoClient\n",
    "import pprint\n",
    "\n",
    "client = MongoClient(\"mongo\")\n",
    "\n",
    "db = client.examples\n",
    "\n",
    "def find():\n",
    "    autos = db.autos.find({\"manufacturer\" : \"Toyota\", \"class\": \"mid-size car\"})\n",
    "    for a in autos:\n",
    "        pprint.pprint(a)\n",
    "\n",
    "if __name__ =\" __main__\":\n",
    "    find()"
   ]
  },
  {
   "cell_type": "code",
   "execution_count": null,
   "metadata": {
    "collapsed": true
   },
   "outputs": [],
   "source": [
    "# Projection Queries: Ability to specify projection doc as well as query doc\n",
    "# Projection describes shape we'd like docs to take in the results set\n",
    "\n",
    "# E.g. only interested in getting name of result documents.\n",
    "\n",
    "def find():\n",
    "    query = {\"manufacturer\" : \"Toyota\", \"class\" : \"mid-size car\"}\n",
    "    # By default if we don't specify, we will always get id. So need to set id = 0.\n",
    "    projection = {\"_id\": 0, \"name\": 1}\n",
    "    autos = db.autos.find(query, projection)"
   ]
  },
  {
   "cell_type": "markdown",
   "metadata": {},
   "source": [
    "## 3.4.3 Inserting documents into collections\n",
    "\n",
    "* 'insert' command: database.collection.insert(a)\n",
    "* mongoimport"
   ]
  },
  {
   "cell_type": "code",
   "execution_count": null,
   "metadata": {
    "collapsed": true
   },
   "outputs": [],
   "source": [
    "# Script to clean autos data. \n",
    "# Output JSON docs to import into MongoDB -> Usually recommended strategy.\n",
    "\n",
    "client = MongoClient(\"mongodb://localhost:27017\")\n",
    "\n",
    "db = client.examples\n",
    "\n",
    "num_autos = db.myautos.find().count()\n",
    "print(\"num_autos before: \" + num_autos)\n",
    "\n",
    "# Loop through all autos created earlier. \n",
    "# Prev created dictionary for each auto\n",
    "for a in autos:\n",
    "    # Call insert for all autos. Pymongo transforms each into BSON encoding.\n",
    "    db.myautos.insert(a)\n",
    "\n",
    "num_autos = db.myautos.find().count()\n",
    "print(\"num autos after: \" + num_autos)"
   ]
  },
  {
   "cell_type": "raw",
   "metadata": {},
   "source": [
    "Returns:\n",
    "num_autos before: 0\n",
    "num_autos after: 7799"
   ]
  },
  {
   "cell_type": "code",
   "execution_count": null,
   "metadata": {
    "collapsed": true
   },
   "outputs": [],
   "source": [
    "# Exercise\n",
    "\n",
    "#!/usr/bin/env python\n",
    "\"\"\" \n",
    "Add a single line of code to the insert_autos function that will insert the\n",
    "automobile data into the 'autos' collection. The data variable that is\n",
    "returned from the process_file function is a list of dictionaries, as in the\n",
    "example in the previous video.\n",
    "\"\"\"\n",
    "\n",
    "from autos import process_file\n",
    "\n",
    "\n",
    "def insert_autos(infile, db):\n",
    "    data = process_file(infile)\n",
    "    # Add your code here. Insert the data in one command.\n",
    "    for a in data:\n",
    "        db.autos.insert(a)\n",
    "  \n",
    "if __name__ == \"__main__\":\n",
    "    # Code here is for local use on your own computer.\n",
    "    from pymongo import MongoClient\n",
    "    client = MongoClient(\"mongodb://localhost:27017\")\n",
    "    db = client.examples\n",
    "\n",
    "    insert_autos('autos-small.csv', db)\n",
    "    print db.autos.find_one()"
   ]
  },
  {
   "cell_type": "raw",
   "metadata": {},
   "source": [
    "# Using Mongoimport\n",
    "# Separate task of cleaning data from that of getting it into MongoDB.\n",
    "# Get documentation: mongoimport --help\n",
    "\n",
    "# Command used in Terminal\n",
    "\n",
    "mongoimport -db dbname -c collectionname --file input-file.json\n",
    "\n",
    "## returns:\n",
    "connected to: 127.0.0.1\n",
    "Thu Jan 30 15:54:13.711 check 9 7799\n",
    "Thu Jan 30 15:54:13.712 imported 7799 objects\n",
    "\n",
    "# If no hostname and credentials are supplied,\n",
    "# mongoimport will try to connect to the default localhost:27017"
   ]
  },
  {
   "cell_type": "markdown",
   "metadata": {},
   "source": [
    "## 3.4.4 Operators\n",
    "\n",
    "Problem: Need to match based on inexact criteria, e.g. all people above a certain age.\n",
    "\n",
    "Use **operators**:\n",
    "* Same idea as in programming languages\n",
    "* Same syntax as field names\n",
    "* Distinguished using $\n",
    "\n",
    "### 3.4.4.1 Range Queries\n",
    "E.g. supporting range queries:\n",
    "* \\$gt\n",
    "* \\$lt\n",
    "* \\$gte\n",
    "* \\$lte\n",
    "* \\$ne"
   ]
  },
  {
   "cell_type": "code",
   "execution_count": null,
   "metadata": {
    "collapsed": true
   },
   "outputs": [],
   "source": [
    "def find():\n",
    "    \n",
    "    query = {\"population\" : {\"$gt\": 250000, \"$lte\": 500000}}\n",
    "    cities = db.cities.find(query)\n",
    "    \n",
    "    num_cities = 0\n",
    "    for c in cities:\n",
    "        pprint.pprint(c)\n",
    "        num_cities += 1\n",
    "        \n",
    "    print(\"\\nNumber of cities matching: %d\\n\" % num_cities)"
   ]
  },
  {
   "cell_type": "code",
   "execution_count": null,
   "metadata": {
    "collapsed": true
   },
   "outputs": [],
   "source": [
    "# Range query for strings: All cities with names starting with X\n",
    "query = {\"name\" : {\"$gte\": \"X\", \"$lt\": \"Y\"}}\n",
    "\n",
    "# For dates: All cities with founding dates in 1837\n",
    "query = {\"foundingDate\" : {\"$gte\" : datetime(1837,1,1), \n",
    "                           \"$lte\": datetime(1837,12,31)}\n",
    "\n",
    "# Not equal to:\n",
    "query = {\"country\" : {\"$ne\" : \"United States\"}}"
   ]
  },
  {
   "cell_type": "code",
   "execution_count": null,
   "metadata": {
    "collapsed": true
   },
   "outputs": [],
   "source": [
    "# Exercise\n",
    "#!/usr/bin/env python\n",
    "\"\"\"\n",
    "Your task is to write a query that will return all cities\n",
    "that are founded in 21st century.\n",
    "Please modify only 'range_query' function, as only that will be taken into account.\n",
    "\n",
    "Your code will be run against a MongoDB instance that we have provided.\n",
    "If you want to run this code locally on your machine,\n",
    "you have to install MongoDB, download and insert the dataset.\n",
    "For instructions related to MongoDB setup and datasets please see Course Materials.\n",
    "\"\"\"\n",
    "\n",
    "from datetime import datetime\n",
    "    \n",
    "def range_query():\n",
    "    # Modify the below line with your query.\n",
    "    # You can use datetime(year, month, day) to specify date in the query\n",
    "    query = {\"foundingDate\" : {\"$gte\": datetime(2001,01,01)}}\n",
    "    return query\n",
    "\n",
    "# Do not edit code below this line in the online code editor.\n",
    "# Code here is for local use on your own computer.\n",
    "def get_db():\n",
    "    from pymongo import MongoClient\n",
    "    client = MongoClient('localhost:27017')\n",
    "    db = client.examples\n",
    "    return db\n",
    "\n",
    "if __name__ == \"__main__\":\n",
    "    # For local use\n",
    "    db = get_db()\n",
    "    query = range_query()\n",
    "    cities = db.cities.find(query)\n",
    "\n",
    "    print \"Found cities:\", cities.count()\n",
    "    import pprint\n",
    "    pprint.pprint(cities[0])"
   ]
  },
  {
   "cell_type": "markdown",
   "metadata": {},
   "source": [
    "### 3.4.4.2 Exists\n",
    "Exists: Query based on structure of info in the docs as well as their values\n",
    "\n",
    "#### Using the Mongo Shell\n",
    "\n"
   ]
  },
  {
   "cell_type": "raw",
   "metadata": {},
   "source": [
    "mongo\n",
    "\n",
    "# Switch to correct database\n",
    "> use examples\n",
    "switched to db examples\n",
    "> db.cities.find()\n",
    "\n",
    "# Query based on structure of info in the docs as well as their values\n",
    "# E.g. relatively few documents have field \"governmentType\".\n",
    "> db.cities.find({\"governmentType\": {\"$exists\": 1}})\n",
    "[All the info, e.g. { \"_id\" : ObjectId(\"...\"),...} for many documents]\n",
    "> db.cities.find({\"governmentType\": {\"$exists\": 1}}).count()\n",
    "1427\n",
    "> db.cities.find({\"governmentType\": {\"$exists\": 0}}).count()\n",
    "18802\n",
    "# .pretty() makes the info more human readable.\n",
    "> db.cities.find({\"governmentTYpe\" : {$exists\": 0}}).pretty()"
   ]
  },
  {
   "cell_type": "markdown",
   "metadata": {},
   "source": [
    "### 3.4.4.3 Regex Operator\n",
    "Looking for patterns in strings.\n",
    "\n",
    "\\$regex (Regular expressions queries) is based on a regular expression library: the PCRE.\n"
   ]
  },
  {
   "cell_type": "raw",
   "metadata": {},
   "source": [
    "# Where the 'friendship' matches the entire string of the motto \n",
    "# Don't need regex for this.\n",
    "> db.cities.find({\"motto\" : {\"$regex\" : \"friendship\"}}).pretty()\n",
    "# All mottos that contain the word friendship, and friendship can either be capitalised or not.\n",
    "> db.cities.find({\"motto\" : {\"$regex\" : \"[Ff]riendship\"}}).count()\n",
    "4\n",
    "> db.cities.find({\"motto\" : {\"$regex\" : \"friendship\"}}).count()\n",
    "1\n",
    "# All docs containing a motto with either the word friendship or the word pride. Either can be capitalised.\n",
    "> db.cities.find({\"motto\" : {\"$regex\" : \"[Ff]riendship | [Pp]ride\"}}).count() "
   ]
  },
  {
   "cell_type": "markdown",
   "metadata": {},
   "source": [
    "A bit confused as to why [Ff]riendship matches all strings that contain the string friendship (with or without initial caps) but friendship only matches ones where friendship is the entire string of the motto (vs contains a non-capitalised version).\n",
    "\n",
    "**RegEx tutorials**\n",
    "Live RegEx tester at regexpal.com.\n",
    "\n",
    "MongoDB $regex Manual.\n",
    "\n",
    "Official Python Regular Expression HOWTO.\n",
    "\n",
    "Another good Python Regular Expressions page.\n"
   ]
  },
  {
   "cell_type": "markdown",
   "metadata": {},
   "source": [
    "### 3.4.4.4 Querying Arrays using Scalars\n",
    "\n",
    "Query against fields that are not simply scalar values such as strings or integers but are themselves structured data values such as arrays.\n",
    "\n",
    "\\$in operator"
   ]
  },
  {
   "cell_type": "raw",
   "metadata": {},
   "source": [
    "> db.autos.find({\"modelYears\": 1980}).pretty()\n",
    "[Returns documents with e.g. \"modelYears\":[1978,1979,1980].]\n",
    "# Query docs that contain any of the values in the query array. Can use this for non-array values.\n",
    "> db.autos.find({\"modelYears\": {\"$in\" : [1965,1966,1967]}})\n",
    "74"
   ]
  },
  {
   "cell_type": "code",
   "execution_count": null,
   "metadata": {
    "collapsed": true
   },
   "outputs": [],
   "source": [
    "# Exercise\n",
    "#!/usr/bin/env python\n",
    "\"\"\"\n",
    "Your task is to write a query that will return all cars manufactured by\n",
    "\"Ford Motor Company\" that are assembled in Germany, United Kingdom, or Japan.\n",
    "Please modify only 'in_query' function, as only that will be taken into account.\n",
    "\n",
    "Your code will be run against a MongoDB instance that we have provided.\n",
    "If you want to run this code locally on your machine,\n",
    "you have to install MongoDB, download and insert the dataset.\n",
    "For instructions related to MongoDB setup and datasets please see Course Materials.\n",
    "\"\"\"\n",
    "\n",
    "\n",
    "def in_query():\n",
    "    # Modify the below line with your query; try to use the $in operator.\n",
    "    query = {\"manufacturer\": \"Ford Motor Company\", \n",
    "    \"assembly\" : {\"$in\": [\"Germany\", \"United Kingdom\", \"Japan\"]}}\n",
    "    \n",
    "    return query\n",
    "\n",
    "\n",
    "# Do not edit code below this line in the online code editor.\n",
    "# Code here is for local use on your own computer.\n",
    "def get_db():\n",
    "    from pymongo import MongoClient\n",
    "    client = MongoClient('localhost:27017')\n",
    "    db = client.examples\n",
    "    return db\n",
    "\n",
    "\n",
    "if __name__ == \"__main__\":\n",
    "\n",
    "    db = get_db()\n",
    "    query = in_query()\n",
    "    autos = db.autos.find(query, {\"name\":1, \"manufacturer\":1, \"assembly\": 1, \"_id\":0})\n",
    "\n",
    "    print \"Found autos:\", autos.count()\n",
    "    import pprint\n",
    "    for a in autos:\n",
    "        pprint.pprint(a)\n"
   ]
  },
  {
   "cell_type": "markdown",
   "metadata": {},
   "source": [
    "Inverse of in: \\$all operator. "
   ]
  },
  {
   "cell_type": "raw",
   "metadata": {},
   "source": [
    "> db.autos.find({\"modelYears\" : {\"$all\" : [1965, 1966, 1967]}}).count()"
   ]
  },
  {
   "cell_type": "markdown",
   "metadata": {},
   "source": [
    "Other ways queries\n",
    "Some fields contain nested docs, e.g. dimensions.\n",
    "Query instide nested docs using Dot notation\n"
   ]
  },
  {
   "cell_type": "raw",
   "metadata": {},
   "source": [
    "# Document:\n",
    "{...,\n",
    " \"dimensions\" : {\n",
    "        \"width\" : 2,\n",
    "        \"length\" : 5.5626,\n",
    "        \"wheelbase\" : 3.2512,\n",
    "        \"weight\" : 1905.12,\n",
    "        \"height\" : 1.524\n",
    "    },\n",
    " ...\n",
    " }\n",
    " \n",
    "> db.autos.find({\"dimensions.weight\" : {\"gt\" : 5000}}).count()\n",
    "61\n",
    "> db.autos.find({\"dimensions.weight\" : {\"gt\" : 500000}}).count()\n",
    "7"
   ]
  },
  {
   "cell_type": "raw",
   "metadata": {},
   "source": [
    "# Getting an idea of what your data contains. Important for auditing data after getting it into the database.\n",
    "\n",
    "# Also do projection: just see text value of hashtag.\n",
    "> db.tweets.find({\"entities.hashtags\" : {\"$ne\" : []}}, {\"entities.hashtags.text\"} : 1, \"__id\" : 0).\n",
    "\n",
    "# Hashtags are arrays.\n",
    "\n",
    "Returns e.g.:\n",
    "{ \"entities\" : { \"hashtags\" : [ { \" text\" : \"xoxo\" }, {\"text\" : \"whenIwasYung\" } ] } }"
   ]
  },
  {
   "cell_type": "code",
   "execution_count": null,
   "metadata": {
    "collapsed": true
   },
   "outputs": [],
   "source": [
    "# Exercise\n",
    "#!/usr/bin/env python\n",
    "\"\"\"\n",
    "Your task is to write a query that will return all cars with width dimension\n",
    "greater than 2.5. Please modify only the 'dot_query' function, as only that\n",
    "will be taken into account.\n",
    "\n",
    "Your code will be run against a MongoDB instance that we have provided.\n",
    "If you want to run this code locally on your machine, you will need to install\n",
    "MongoDB, download and insert the dataset. For instructions related to MongoDB\n",
    "setup and datasets, please see the Course Materials.\n",
    "\"\"\"\n",
    "\n",
    "\n",
    "def dot_query():\n",
    "    # Edit the line below with your query - try to use dot notation.\n",
    "    # You can check out example_auto.txt for an example of the document\n",
    "    # structure in the collection.\n",
    "    query = {\"dimensions.width\": {\"$gt\" : 2.5}}\n",
    "    return query\n",
    "\n",
    "\n",
    "# Do not edit code below this line in the online code editor.\n",
    "# Code here is for local use on your own computer.\n",
    "def get_db():\n",
    "    from pymongo import MongoClient\n",
    "    client = MongoClient('localhost:27017')\n",
    "    db = client.examples\n",
    "    return db\n",
    "\n",
    "\n",
    "if __name__ == \"__main__\":\n",
    "    db = get_db()\n",
    "    query = dot_query()\n",
    "    cars = db.cars.find(query)\n",
    "\n",
    "    print \"Printing first 3 results\\n\"\n",
    "    import pprint\n",
    "    for car in cars[:3]:\n",
    "        pprint.pprint(car)"
   ]
  },
  {
   "cell_type": "markdown",
   "metadata": {},
   "source": [
    "## 3.4.5 Updating documents in a collection\n",
    "\n",
    "**save** command\n",
    "* In Pymongo: method on collections objects\n",
    "* -> Creates new doc or replaces existing one depending on whether or not ID exists.\n",
    "\n",
    "find_one returns first doc found as opposed to a cursor (which find returns)."
   ]
  },
  {
   "cell_type": "code",
   "execution_count": null,
   "metadata": {
    "collapsed": true
   },
   "outputs": [],
   "source": [
    "from pymongo import MongoClient\n",
    "import pprint\n",
    "\n",
    "client = MongoClient(\"mongodb:/localhost:27017\")\n",
    "\n",
    "db = client.examples\n",
    "\n",
    "def main():\n",
    "    city = db.cities.find_one({ \"name\" : \"München\",\n",
    "                                \"country\" : \"Germany\"})\n",
    "    city[\"isoCountryCode\"] = \"DEU\"\n",
    "    db.cities.save(city)"
   ]
  },
  {
   "cell_type": "raw",
   "metadata": {},
   "source": [
    "# Check doc updated appropriately:\n",
    "> db.cities.find({\"name\" : \"München\", \"country\" : \"Germany\"}).pretty()"
   ]
  },
  {
   "cell_type": "markdown",
   "metadata": {},
   "source": [
    "**update** command\n",
    "* Query document as first parameter\n",
    "* Update document as second parameter: Operation MongDB should perform on first document found matching this query.\n",
    "\n",
    "**\\$set** operator\n",
    "* If document does not already contain the field specified here, then the field should be added with value specified. \n",
    "* If the field already exists, update field value to value specified.\n",
    "\n",
    "**\\$unset** operator\n",
    "* Inverse of \\$set\n",
    "* For whatever doc matches query: if the document has the field specified, remove the field.\n",
    "* If the document does not have the field specified, the operator has no effect."
   ]
  },
  {
   "cell_type": "code",
   "execution_count": null,
   "metadata": {
    "collapsed": true
   },
   "outputs": [],
   "source": [
    "from pymongo import MongoClient\n",
    "import pprint\n",
    "\n",
    "client = MongoClient(\"mongodb:/localhost:27017\")\n",
    "\n",
    "db = client.examples\n",
    "\n",
    "def main():\n",
    "    db.cities.update({ \"name\" : \"München\",\n",
    "                        \"country\" : \"Germany\"},\n",
    "                    { \"$set\" : {\n",
    "                        \"isoCountryCode\" : \"DEU\"\n",
    "                            }\n",
    "                    })"
   ]
  },
  {
   "cell_type": "code",
   "execution_count": null,
   "metadata": {
    "collapsed": true
   },
   "outputs": [],
   "source": [
    "def main():\n",
    "    city = db.cities.update({ \"name\" : \"München\",\n",
    "                                \"country\" : \"Germany\"},\n",
    "                            { \"$unset\" : {\n",
    "                                \"isoCountryCode\" : \"\"\n",
    "                            }})"
   ]
  },
  {
   "cell_type": "raw",
   "metadata": {},
   "source": [
    "# Find One Query: Syntax is slightly different because Mongoshell is in Javascript whereas PyMongo is in Python.\n",
    "\n",
    "db.cities.findOne({ \"name\" : \"München\", \"country\" : \"Germany\" }).pretty()"
   ]
  },
  {
   "cell_type": "code",
   "execution_count": null,
   "metadata": {
    "collapsed": true
   },
   "outputs": [],
   "source": [
    "# COMMON MISTAKE: If you leave out the operator\n",
    "\n",
    "def main():\n",
    "    db.cities.update({ \"name\" : \"München\",\n",
    "                        \"country\" : \"Germany\"},\n",
    "                    {\"isoCountryCode\" : \"DEU\"})\n",
    "# Returns: Entire document will be replaced so that \n",
    "# it contains the _id field and the isoCountryCode field only."
   ]
  },
  {
   "cell_type": "markdown",
   "metadata": {},
   "source": [
    "### 3.4.5.1 Updating multiple docs at once\n",
    "Global modification to all docs matching certain criteria.\n",
    "* Specify third parameter **multi=True**."
   ]
  },
  {
   "cell_type": "code",
   "execution_count": null,
   "metadata": {
    "collapsed": true
   },
   "outputs": [],
   "source": [
    "def main():\n",
    "    db.cities.update({ \"name\" : \"München\",\n",
    "                        \"country\" : \"Germany\"},\n",
    "                     { \"$set\" : {\n",
    "                        \"isoCountryCode\" : \"DEU\"\n",
    "                        }\n",
    "                     },\n",
    "                     multi=True)"
   ]
  },
  {
   "cell_type": "raw",
   "metadata": {},
   "source": [
    "> db.cities.find({ \"country\" : \"Germany\" }).pretty()"
   ]
  },
  {
   "cell_type": "markdown",
   "metadata": {},
   "source": [
    "## 3.4.6 Removing documents"
   ]
  },
  {
   "cell_type": "raw",
   "metadata": {},
   "source": [
    "# Finds all cities in the collection. Remove syntax similar to find syntax.\n",
    "> db.cities.find()\n",
    "\n",
    "# Removes all cities from the collection\n",
    "> db.cities.remove()\n",
    "\n",
    "# Removes entire collection cities\n",
    "> db.cities.drop()\n",
    "\n",
    "# Removes a specific city matching criteria:\n",
    "> db.cities.remove({\"name\" : \"Chicago\"})\n",
    "\n",
    "# Example of cleaning task:\n",
    "> db.cities.remove({ \"name\" : { \"exists\" : 0 } } )\n"
   ]
  }
 ],
 "metadata": {
  "kernelspec": {
   "display_name": "Python 3",
   "language": "python",
   "name": "python3"
  },
  "language_info": {
   "codemirror_mode": {
    "name": "ipython",
    "version": 3
   },
   "file_extension": ".py",
   "mimetype": "text/x-python",
   "name": "python",
   "nbconvert_exporter": "python",
   "pygments_lexer": "ipython3",
   "version": "3.5.1"
  }
 },
 "nbformat": 4,
 "nbformat_minor": 0
}
